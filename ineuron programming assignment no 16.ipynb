{
 "cells": [
  {
   "cell_type": "markdown",
   "metadata": {},
   "source": [
    "# Assignment no 16"
   ]
  },
  {
   "cell_type": "code",
   "execution_count": 9,
   "metadata": {},
   "outputs": [
    {
     "name": "stdout",
     "output_type": "stream",
     "text": [
      "please input a string:\"incredible\"\n",
      "\" in ...  in ...  incredible \"\n"
     ]
    }
   ],
   "source": [
    "# Question1. Write a function that stutters a word as if someone is struggling to read it. The first two letters are repeated twice with an ellipsis ... and space after each, and then the word is pronounced with a question mark ?.\n",
    "# Examples\n",
    "# stutter(\"incredible\") ➞ \"in... in... incredible?\"\n",
    "\n",
    "# stutter(\"enthusiastic\") ➞ \"en... en... enthusiastic?\"\n",
    "\n",
    "# stutter(\"outstanding\") ➞ \"ou... ou... outstanding?\"\n",
    "\n",
    "# Hint :-Assume all input is in lower case and at least two characters long.\n",
    "def stutter(word):\n",
    "\tword1 = word[1:3]\n",
    "\tprint('\"',word1,'... ',word1,'... ',eval(word),'\"')\n",
    "st = input('please input a string:')\n",
    "stutter(st)\n"
   ]
  },
  {
   "cell_type": "code",
   "execution_count": 15,
   "metadata": {},
   "outputs": [
    {
     "name": "stdout",
     "output_type": "stream",
     "text": [
      "degree = 2864.7913954398887\n"
     ]
    }
   ],
   "source": [
    "\n",
    "# Question 2.Create a function that takes an angle in radians and returns the corresponding angle in degrees rounded to one decimal place.\n",
    "# Examples\n",
    "# radians_to_degrees(1) ➞ 57.3\n",
    "\n",
    "# radians_to_degrees(20) ➞ 1145.9\n",
    "\n",
    "# radians_to_degrees(50) ➞ 2864.8\n",
    "def Convert(radian):\n",
    "    pi = 3.14159\n",
    "    # Simply used the formula\n",
    "    degree = radian * (180/pi)\n",
    "    return degree\n",
    " \n",
    "# Driver Code\n",
    "radian = 50\n",
    "print(\"degree =\",(Convert(radian)))\n"
   ]
  },
  {
   "cell_type": "code",
   "execution_count": 11,
   "metadata": {},
   "outputs": [
    {
     "name": "stdout",
     "output_type": "stream",
     "text": [
      "5 is a curzon number.\n"
     ]
    }
   ],
   "source": [
    "\n",
    "# Question 3. In this challenge, establish if a given integer num is a Curzon number. If 1 plus 2 elevated to num is exactly divisible by 1 plus 2 multiplied by num, then num is a Curzon number.\n",
    "# Given a non-negative integer num, implement a function that returns True if num is a Curzon number, or False otherwise.\n",
    "# Examples\n",
    "# is_curzon(5) ➞ True\n",
    "# # 2 ** 5 + 1 = 33\n",
    "# # 2 * 5 + 1 = 11\n",
    "# # 33 is a multiple of 11\n",
    "\n",
    "# is_curzon(10) ➞ False\n",
    "# # 2 ** 10 + 1 = 1025\n",
    "# # 2 * 10 + 1 = 21\n",
    "# # 1025 is not a multiple of 21\n",
    "\n",
    "# is_curzon(14) ➞ True\n",
    "# # 2 ** 14 + 1 = 16385\n",
    "# # 2 * 14 + 1 = 29\n",
    "# # 16385 is a multiple of 29\n",
    "def is_curzon(num):\n",
    "    elev_num = 1+pow(2,num)\n",
    "    multp_num = 1+2*num\n",
    "    if elev_num%multp_num ==0:\n",
    "            print(num,'is a curzon number.')\n",
    "    else:\n",
    "        print(num,'is not a curzon number.')\n",
    "is_curzon(5)\n"
   ]
  },
  {
   "cell_type": "code",
   "execution_count": 21,
   "metadata": {},
   "outputs": [
    {
     "name": "stdout",
     "output_type": "stream",
     "text": [
      "Area: 23.3827\n"
     ]
    }
   ],
   "source": [
    "\n",
    "# Question 4.Given the side length x find the area of a hexagon.\n",
    " \n",
    "# Examples\n",
    "# area_of_hexagon(1) ➞ 2.6\n",
    "\n",
    "# area_of_hexagon(2) ➞ 10.4\n",
    "\n",
    "# area_of_hexagon(3) ➞ 23.4\n",
    "\n",
    "import math\n",
    "def hexagonArea(s):\n",
    "    return ((3 * math.sqrt(3) *\n",
    "            (s * s)) / 2);\n",
    "if __name__ == \"__main__\" :\n",
    "    s = 3\n",
    "    print(\"Area:\",\"{0:.4f}\" .\n",
    "           format(hexagonArea(s)))"
   ]
  },
  {
   "cell_type": "code",
   "execution_count": 36,
   "metadata": {},
   "outputs": [
    {
     "name": "stdout",
     "output_type": "stream",
     "text": [
      "Decimal equivalent of 1010 in base 10 is 1010\n"
     ]
    }
   ],
   "source": [
    "# Question 5.Create a function that returns a base-2 (binary) representation of a base-10 (decimal) string number. To convert is simple: ((2) means base-2 and (10) means base-10) 010101001(2) = 1 + 8 + 32 + 128 Going from right to left, the value of the most right bit is 1, now from that every bit to the left will be x2 the value, value of an 8 bit binary numbers are (256, 128, 64, 32, 16, 8, 4, 2, 1).\n",
    "# Examples\n",
    "# binary(1) ➞ \"1\"\n",
    "#  1*1 = 1\n",
    "\n",
    "# binary(5) ➞ \"101\"\n",
    "#  1*1 + 1*4 = 5\n",
    "\n",
    "# binary(10) ➞ \"1010\"\n",
    "#  1*2 + 1*8 = 10\n",
    "\n",
    "\n",
    "def val(c):\n",
    "    if c >= '0' and c <= '9':\n",
    "        return ord(c) - ord('0')\n",
    "    else:\n",
    "        return ord(c) - ord('A') + 10;\n",
    "def toDeci(str,base):\n",
    "    llen = len(str)\n",
    "    power = 1 \n",
    "    num = 0   \n",
    "    for i in range(llen - 1, -1, -1):\n",
    "        if val(str[i]) >= base:\n",
    "            print('Invalid Number')\n",
    "            return -1\n",
    "        num += val(str[i]) * power\n",
    "        power = power * base\n",
    "    return num\n",
    "strr = \"1010\"\n",
    "base = 10\n",
    "print('Decimal equivalent of', strr,'in base', base, 'is',toDeci(strr, base))\n"
   ]
  },
  {
   "cell_type": "code",
   "execution_count": null,
   "metadata": {},
   "outputs": [],
   "source": []
  }
 ],
 "metadata": {
  "kernelspec": {
   "display_name": "Python 3",
   "language": "python",
   "name": "python3"
  },
  "language_info": {
   "codemirror_mode": {
    "name": "ipython",
    "version": 3
   },
   "file_extension": ".py",
   "mimetype": "text/x-python",
   "name": "python",
   "nbconvert_exporter": "python",
   "pygments_lexer": "ipython3",
   "version": "3.8.5"
  }
 },
 "nbformat": 4,
 "nbformat_minor": 4
}
