{
 "cells": [
  {
   "cell_type": "markdown",
   "metadata": {},
   "source": [
    "#  Assignment No 9"
   ]
  },
  {
   "cell_type": "code",
   "execution_count": 1,
   "metadata": {},
   "outputs": [
    {
     "name": "stdout",
     "output_type": "stream",
     "text": [
      "175 is a disarium number\n"
     ]
    }
   ],
   "source": [
    "# 1.\tWrite a Python program to check if the given number is a Disarium Number?\n",
    "num = 175 \n",
    "len1 = str(num)\n",
    "a = len(len1)\n",
    "rem = sum = 0;\n",
    "n = num;    \n",
    "while(num > 0):    \n",
    "    rem = num%10\n",
    "    sum = sum + int(rem**a)\n",
    "    num = num//10\n",
    "    a = a - 1\n",
    "if(sum == n):    \n",
    "    print(str(n) + \" is a disarium number\") \n",
    "else:    \n",
    "    print(str(n) + \" is not a disarium number\")    "
   ]
  },
  {
   "cell_type": "code",
   "execution_count": 2,
   "metadata": {},
   "outputs": [
    {
     "name": "stdout",
     "output_type": "stream",
     "text": [
      "Disarium numbers between 1 and 100 are\n",
      "1\n",
      "2\n",
      "3\n",
      "4\n",
      "5\n",
      "6\n",
      "7\n",
      "8\n",
      "9\n",
      "89\n"
     ]
    }
   ],
   "source": [
    "# 2.\tWrite a Python program to print all disarium numbers between 1 to 100?\n",
    "def calculateLength(n):  \n",
    "    length = 0;  \n",
    "    while(n != 0):  \n",
    "        length = length + 1\n",
    "        n = n//10  \n",
    "    return length  \n",
    "def sumOfDigits(num):  \n",
    "    rem = sum = 0 \n",
    "    len = calculateLength(num)\n",
    "    while(num > 0):  \n",
    "        rem = num%10\n",
    "        sum = sum + (rem**len)\n",
    "        num = num//10 \n",
    "        len = len - 1\n",
    "    return sum\n",
    "result = 0\n",
    "print(\"Disarium numbers between 1 and 100 are\")\n",
    "for i in range(1, 101):  \n",
    "    result = sumOfDigits(i)\n",
    "    if(result == i):  \n",
    "        print(i) "
   ]
  },
  {
   "cell_type": "code",
   "execution_count": 3,
   "metadata": {},
   "outputs": [
    {
     "name": "stdout",
     "output_type": "stream",
     "text": [
      "8 is not a happy number\n"
     ]
    }
   ],
   "source": [
    "# 3.\tWrite a Python program to check if the given number is Happy Number?\n",
    "def isHappyNumber(num):    \n",
    "    rem = sum = 0  \n",
    "    while(num > 0):    \n",
    "        rem = num%10\n",
    "        sum = sum + (rem*rem)\n",
    "        num = num//10\n",
    "    return sum\n",
    "num = 8\n",
    "result = num\n",
    "while(result != 1 and result != 4):    \n",
    "    result = isHappyNumber(result)\n",
    "if(result == 1):    \n",
    "    print(str(num) + \" is a happy number\")\n",
    "elif(result == 4):    \n",
    "    print(str(num) + \" is not a happy number\")"
   ]
  },
  {
   "cell_type": "code",
   "execution_count": 4,
   "metadata": {},
   "outputs": [
    {
     "name": "stdout",
     "output_type": "stream",
     "text": [
      "List of happy numbers between 1 and 100: \n",
      "1\n",
      "7\n",
      "10\n",
      "13\n",
      "19\n",
      "23\n",
      "28\n",
      "31\n",
      "32\n",
      "44\n",
      "49\n",
      "68\n",
      "70\n",
      "79\n",
      "82\n",
      "86\n",
      "91\n",
      "94\n",
      "97\n",
      "100\n"
     ]
    }
   ],
   "source": [
    "# 4.\tWrite a Python program to print all happy numbers between 1 and 100?\n",
    "def isHappyNumber(num):    \n",
    "    rem = sum = 0    \n",
    "    while(num > 0):    \n",
    "        rem = num%10\n",
    "        sum = sum + (rem*rem)\n",
    "        num = num//10\n",
    "    return sum\n",
    "print(\"List of happy numbers between 1 and 100: \")\n",
    "for i in range(1, 101):    \n",
    "    result = i\n",
    "    while(result != 1 and result != 4):    \n",
    "        result = isHappyNumber(result);    \n",
    "    if(result == 1):    \n",
    "        print(i)"
   ]
  },
  {
   "cell_type": "code",
   "execution_count": 7,
   "metadata": {},
   "outputs": [
    {
     "name": "stdout",
     "output_type": "stream",
     "text": [
      "156 is a harshad number\n"
     ]
    }
   ],
   "source": [
    "# 5.\tWrite a Python program to determine whether the given number is a Harshad Number?\n",
    "num = 156    \n",
    "rem = sum = 0\n",
    "n = num\n",
    "while(num > 0):    \n",
    "    rem = num%10\n",
    "    sum = sum + rem\n",
    "    num = num//10   \n",
    "if(n%sum == 0):    \n",
    "    print(str(n) + \" is a harshad number\")\n",
    "else:    \n",
    "    print(str(n) + \" is not a harshad number\")"
   ]
  },
  {
   "cell_type": "code",
   "execution_count": 6,
   "metadata": {},
   "outputs": [
    {
     "name": "stdout",
     "output_type": "stream",
     "text": [
      "Pronic numbers between 1 and 100: \n",
      "2\n",
      "6\n",
      "12\n",
      "20\n",
      "30\n",
      "42\n",
      "56\n",
      "72\n",
      "90\n"
     ]
    }
   ],
   "source": [
    "# 6.\tWrite a Python program to print all pronic numbers between 1 and 100?\n",
    "def isPronicNumber(num):    \n",
    "    flag = False    \n",
    "    for j in range(1, num+1):    \n",
    "        if((j*(j+1)) == num):    \n",
    "            flag = True\n",
    "            break    \n",
    "    return flag\n",
    "print(\"Pronic numbers between 1 and 100: \")\n",
    "for i in range(1, 101):    \n",
    "    if(isPronicNumber(i)):    \n",
    "        print(i)"
   ]
  },
  {
   "cell_type": "code",
   "execution_count": null,
   "metadata": {},
   "outputs": [],
   "source": []
  }
 ],
 "metadata": {
  "kernelspec": {
   "display_name": "Python 3",
   "language": "python",
   "name": "python3"
  },
  "language_info": {
   "codemirror_mode": {
    "name": "ipython",
    "version": 3
   },
   "file_extension": ".py",
   "mimetype": "text/x-python",
   "name": "python",
   "nbconvert_exporter": "python",
   "pygments_lexer": "ipython3",
   "version": "3.8.5"
  }
 },
 "nbformat": 4,
 "nbformat_minor": 4
}
