{
 "cells": [
  {
   "cell_type": "markdown",
   "metadata": {},
   "source": [
    "# Assignment no 14\n"
   ]
  },
  {
   "cell_type": "code",
   "execution_count": 1,
   "metadata": {},
   "outputs": [
    {
     "name": "stdout",
     "output_type": "stream",
     "text": [
      "50\n",
      "[0, 7, 14, 21, 28, 35, 42, 49]\n",
      "0 True\n",
      "1 False\n",
      "2 False\n",
      "3 False\n",
      "4 False\n",
      "5 False\n",
      "6 False\n",
      "7 True\n",
      "8 False\n",
      "9 False\n",
      "10 False\n",
      "11 False\n",
      "12 False\n",
      "13 False\n",
      "14 True\n",
      "15 False\n",
      "16 False\n",
      "17 False\n",
      "18 False\n",
      "19 False\n",
      "20 False\n",
      "21 True\n",
      "22 False\n",
      "23 False\n",
      "24 False\n",
      "25 False\n",
      "26 False\n",
      "27 False\n",
      "28 True\n",
      "29 False\n",
      "30 False\n",
      "31 False\n",
      "32 False\n",
      "33 False\n",
      "34 False\n",
      "35 True\n",
      "36 False\n",
      "37 False\n",
      "38 False\n",
      "39 False\n",
      "40 False\n",
      "41 False\n",
      "42 True\n",
      "43 False\n",
      "44 False\n",
      "45 False\n",
      "46 False\n",
      "47 False\n",
      "48 False\n",
      "49 True\n"
     ]
    }
   ],
   "source": [
    "# Question 1:\n",
    "\n",
    "# Define a class with a generator which can iterate the numbers, which are divisible by 7, between a given range 0 and n.\n",
    "n = int(input())\n",
    "divBy7 = [i for i in range(0, n) if (i % 7 == 0)]\n",
    "print(divBy7)\n",
    "\n",
    "def divChecker(n):\n",
    "    for i in range(n):\n",
    "        if i % 7 == 0:\n",
    "            value = True\n",
    "        else:\n",
    "            value = False\n",
    "        print(i, value)\n",
    "divChecker(n)"
   ]
  },
  {
   "cell_type": "code",
   "execution_count": 2,
   "metadata": {},
   "outputs": [
    {
     "name": "stdout",
     "output_type": "stream",
     "text": [
      "Type in: New to Python or choosing between Python 2 and Python 3? Read Python 2 or Python 3.\n",
      "[('New', 1), ('Python', 5), ('Read', 1), ('and', 1), ('between', 1), ('choosing', 1), ('or', 2), ('to', 1)]\n",
      "New 1\n",
      "Python 5\n",
      "Read 1\n",
      "and 1\n",
      "between 1\n",
      "choosing 1\n",
      "or 2\n",
      "to 1\n"
     ]
    }
   ],
   "source": [
    "# Question 2:\n",
    "# Write a program to compute the frequency of the words from the input. \n",
    "# The output should output after sorting the key alphanumerically. \n",
    "\n",
    "# Suppose the following input is supplied to the program:\n",
    "\n",
    "# New to Python or choosing between Python 2 and Python 3? Read Python 2 or Python 3.\n",
    "\n",
    "# Then, the output should be:\n",
    "\n",
    "# 2:2\n",
    "\n",
    "# 3.:1\n",
    "\n",
    "# 3?:1\n",
    "\n",
    "# New:1\n",
    "\n",
    "# Python:5\n",
    "\n",
    "# Read:1\n",
    "\n",
    "# and:1\n",
    "\n",
    "# between:1\n",
    "\n",
    "# choosing:1\n",
    "\n",
    "# or:2\n",
    "\n",
    "# to:1\n",
    "\n",
    "import operator\n",
    "\n",
    "text_line = input(\"Type in: \")\n",
    "\n",
    "freq_dict = {}\n",
    "\n",
    "for i in text_line.split(' '):\n",
    "    if i.isalpha():\n",
    "        if i not in freq_dict:\n",
    "            freq_dict[i] = 1\n",
    "        elif i in freq_dict:\n",
    "            freq_dict[i] = freq_dict[i] + 1\n",
    "    else:\n",
    "        pass\n",
    "\n",
    "sorted_freq_dict = sorted(freq_dict.items(), key = operator.itemgetter(0))\n",
    "print(sorted_freq_dict)\n",
    "\n",
    "for i in sorted_freq_dict:\n",
    "    print(i[0], i[1])"
   ]
  },
  {
   "cell_type": "code",
   "execution_count": 3,
   "metadata": {},
   "outputs": [
    {
     "name": "stdout",
     "output_type": "stream",
     "text": [
      "Male\n",
      "Female\n"
     ]
    }
   ],
   "source": [
    "# Question 3:\n",
    "\n",
    "# Define a class Person and its two child classes: Male and Female.All classes have a method \"getGender\" which can print \"Male\" for Male class and \"Female\" for Female class.\n",
    "\n",
    "class Person(object):\n",
    "    def getGender( self ):\n",
    "        return \"Unknown\"\n",
    "\n",
    "class Male( Person ):\n",
    "    def getGender( self ):\n",
    "        return \"Male\"\n",
    "\n",
    "class Female( Person ):\n",
    "    def getGender( self ):\n",
    "        return \"Female\"\n",
    "\n",
    "aMale = Male()\n",
    "aFemale= Female()\n",
    "print (aMale.getGender())\n",
    "print (aFemale.getGender())"
   ]
  },
  {
   "cell_type": "code",
   "execution_count": 4,
   "metadata": {},
   "outputs": [
    {
     "name": "stdout",
     "output_type": "stream",
     "text": [
      "I Play Hockey.\n",
      "I Play Football.\n",
      "I Love Hockey.\n",
      "I Love Football.\n",
      "You Play Hockey.\n",
      "You Play Football.\n",
      "You Love Hockey.\n",
      "You Love Football.\n"
     ]
    }
   ],
   "source": [
    "# Question 4:\n",
    "# Please write a program to generate all sentences where subject is in [\"I\", \"You\"] and verb is in [\"Play\", \"Love\"] and the object is in [\"Hockey\",\"Football\"].\n",
    "subjects=[\"I\", \"You\"]\n",
    "verbs=[\"Play\", \"Love\"]\n",
    "objects=[\"Hockey\",\"Football\"]\n",
    "for i in range(len(subjects)):\n",
    "    for j in range(len(verbs)):\n",
    "        for k in range(len(objects)):\n",
    "            sentence = \"%s %s %s.\" % (subjects[i], verbs[j], objects[k])\n",
    "            print (sentence)\n"
   ]
  },
  {
   "cell_type": "code",
   "execution_count": 5,
   "metadata": {},
   "outputs": [
    {
     "name": "stdout",
     "output_type": "stream",
     "text": [
      "b'x\\x9c\\xcbH\\xcd\\xc9\\xc9W(\\xcf/\\xcaIQ\\xcc \\x82\\r\\x00\\xbd[\\x11\\xf5'\n",
      "b'hello world!hello world!hello world!hello world!'\n"
     ]
    }
   ],
   "source": [
    "\n",
    "# Question 5:\n",
    "# Please write a program to compress and decompress the string \"hello world!helloworld!helloworld!hello world!\".\n",
    "import zlib\n",
    "s = 'hello world!hello world!hello world!hello world!'.encode()\n",
    "t = zlib.compress(s)\n",
    "print (t)\n",
    "print (zlib.decompress(t))"
   ]
  },
  {
   "cell_type": "code",
   "execution_count": 14,
   "metadata": {},
   "outputs": [
    {
     "name": "stdout",
     "output_type": "stream",
     "text": [
      "[1, 6, 5, 2, 4, 4, 8]\n",
      "First occurrence of 4 is present at 4\n"
     ]
    }
   ],
   "source": [
    "\n",
    "# Question 6:\n",
    "# Please write a binary search function which searches an item in a sorted list. The function should return the index of element to be searched in the list\n",
    "from bisect import bisect_left\n",
    "  \n",
    "def BinarySearch(a, x):\n",
    "    i = bisect_left(a, x)\n",
    "    if i != len(a) and a[i] == x:\n",
    "        return i\n",
    "    else:\n",
    "        return -1\n",
    "a  = [1,6,5, 2, 4, 4, 8]\n",
    "x = int(4)\n",
    "res = BinarySearch(a, x)\n",
    "if res == -1:\n",
    "    print(x, \"is absent\")\n",
    "else:\n",
    "    print(\"First occurrence of\", x, \"is present at\", res)"
   ]
  },
  {
   "cell_type": "code",
   "execution_count": null,
   "metadata": {},
   "outputs": [],
   "source": []
  }
 ],
 "metadata": {
  "kernelspec": {
   "display_name": "Python 3",
   "language": "python",
   "name": "python3"
  },
  "language_info": {
   "codemirror_mode": {
    "name": "ipython",
    "version": 3
   },
   "file_extension": ".py",
   "mimetype": "text/x-python",
   "name": "python",
   "nbconvert_exporter": "python",
   "pygments_lexer": "ipython3",
   "version": "3.8.5"
  }
 },
 "nbformat": 4,
 "nbformat_minor": 4
}
