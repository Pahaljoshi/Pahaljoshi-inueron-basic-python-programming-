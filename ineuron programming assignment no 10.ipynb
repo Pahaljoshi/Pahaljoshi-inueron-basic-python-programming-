{
 "cells": [
  {
   "cell_type": "markdown",
   "metadata": {},
   "source": [
    "# Assignnment No 10"
   ]
  },
  {
   "cell_type": "code",
   "execution_count": 1,
   "metadata": {},
   "outputs": [],
   "source": [
    "# 1.\tWrite a Python program to find sum of elements in list?\n",
    "total = 0\n",
    "list1 = [11, 5, 17, 18, 23]\n",
    "for i in range(0, len(list1)):\n",
    "    total = total + list1[i]\n",
    "    print(total)\n",
    "print(\"Sum of all elements in given list: \", total)"
   ]
  },
  {
   "cell_type": "code",
   "execution_count": 2,
   "metadata": {},
   "outputs": [
    {
     "name": "stdout",
     "output_type": "stream",
     "text": [
      "6\n"
     ]
    }
   ],
   "source": [
    "# 2.\tWrite a Python program to  Multiply all numbers in the list?\n",
    "list1 = [1, 2, 3]\n",
    "total = 1\n",
    "for i in range(0,len(list1)):\n",
    "    total = total*list1[i]\n",
    "print(total)"
   ]
  },
  {
   "cell_type": "code",
   "execution_count": 3,
   "metadata": {},
   "outputs": [
    {
     "name": "stdout",
     "output_type": "stream",
     "text": [
      "4\n"
     ]
    }
   ],
   "source": [
    "# 3.\tWrite a Python program to find smallest number in a list?\n",
    "list1 = [10, 20, 4, 45, 99]\n",
    "a =list1.sort()\n",
    "print(list1[0])"
   ]
  },
  {
   "cell_type": "code",
   "execution_count": 4,
   "metadata": {},
   "outputs": [
    {
     "name": "stdout",
     "output_type": "stream",
     "text": [
      "145\n"
     ]
    }
   ],
   "source": [
    "# 4.\tWrite a Python program to find largest number in a list?\n",
    "list1 = [10, 20, 4, 145, 99]\n",
    "list1.sort()\n",
    "print(list1[-1])"
   ]
  },
  {
   "cell_type": "code",
   "execution_count": 5,
   "metadata": {},
   "outputs": [
    {
     "name": "stdout",
     "output_type": "stream",
     "text": [
      "10\n"
     ]
    }
   ],
   "source": [
    "# 5.\tWrite a Python program to find second largest number in a list?\n",
    "list1 = [10,2,33,44,22,44,21]\n",
    "list1.sort()\n",
    "print(list1[1])"
   ]
  },
  {
   "cell_type": "code",
   "execution_count": 6,
   "metadata": {},
   "outputs": [
    {
     "name": "stdout",
     "output_type": "stream",
     "text": [
      "[85, 45, 44, 41]\n"
     ]
    }
   ],
   "source": [
    "# 6.\tWrite a Python program to find N largest elements from a list?\n",
    "def Nnumbers(list1, N):\n",
    "    final_list = []\n",
    "    for i in range(0, N): \n",
    "        max1 = 0\n",
    "        for j in range(len(list1)):     \n",
    "            if list1[j] > max1:\n",
    "                max1 = list1[j];\n",
    "        list1.remove(max1);\n",
    "        final_list.append(max1)\n",
    "    print(final_list)\n",
    "list1 = [2,22, 6, 41,44,45, 85, 0, 3, 7, 6, 10]\n",
    "N = 4\n",
    "Nnumbers(list1, N)"
   ]
  },
  {
   "cell_type": "code",
   "execution_count": 7,
   "metadata": {},
   "outputs": [
    {
     "name": "stdout",
     "output_type": "stream",
     "text": [
      "10 4 66 98 "
     ]
    }
   ],
   "source": [
    "# 7.\tWrite a Python program to print even numbers in a list?\n",
    "list1 = [10, 21, 4, 45, 66, 93,98]\n",
    "for num in list1:\n",
    "    if num % 2 == 0:\n",
    "        print(num, end = \" \")"
   ]
  },
  {
   "cell_type": "code",
   "execution_count": 8,
   "metadata": {},
   "outputs": [
    {
     "name": "stdout",
     "output_type": "stream",
     "text": [
      "21 45 93 "
     ]
    }
   ],
   "source": [
    "# 8.\tWrite a Python program to print odd numbers in a List?\n",
    "list1 = [10, 21, 4, 45, 66, 93]\n",
    "for num in list1:\n",
    "    if num % 2 != 0:\n",
    "       print(num, end = \" \")"
   ]
  },
  {
   "cell_type": "code",
   "execution_count": 9,
   "metadata": {},
   "outputs": [
    {
     "name": "stdout",
     "output_type": "stream",
     "text": [
      "The original list is : [5, 6, [], 3, [], [], 9]\n",
      "List after empty list removal : [5, 6, 3, 9]\n"
     ]
    }
   ],
   "source": [
    "# 9.\tWrite a Python program to Remove empty List from List?\n",
    "test_list = [5, 6, [], 3, [], [], 9]\n",
    "print(\"The original list is : \" + str(test_list))\n",
    "res = [ele for ele in test_list if ele != []]\n",
    "print (\"List after empty list removal : \" + str(res))"
   ]
  },
  {
   "cell_type": "code",
   "execution_count": 10,
   "metadata": {},
   "outputs": [
    {
     "name": "stdout",
     "output_type": "stream",
     "text": [
      "Original List: [4, 8, 2, 10, 15, 18]\n",
      "After Cloning: [4, 8, 2, 10, 15, 18]\n"
     ]
    }
   ],
   "source": [
    "# 10.\tWrite a Python program to Cloning or Copying a list?\n",
    "def Cloning(li1):\n",
    "    li_copy = li1[::]\n",
    "    return li_copy\n",
    "li1 = [4, 8, 2, 10, 15, 18]\n",
    "li2 = Cloning(li1)\n",
    "print(\"Original List:\", li1)\n",
    "print(\"After Cloning:\", li2)"
   ]
  },
  {
   "cell_type": "code",
   "execution_count": 11,
   "metadata": {},
   "outputs": [
    {
     "name": "stdout",
     "output_type": "stream",
     "text": [
      "8 has occurred 5 times\n"
     ]
    }
   ],
   "source": [
    "# 11.\tWrite a Python program to Count occurrences of an element in a list?\n",
    "def countX(lst, x):\n",
    "    count = 0\n",
    "    for i in lst:\n",
    "        if (i == x):\n",
    "            count = count + 1\n",
    "    return count\n",
    "lst = [8, 6, 8, 10, 8, 20, 10, 8, 8]\n",
    "x = 8\n",
    "print('{} has occurred {} times'.format(x, countX(lst, x)))"
   ]
  },
  {
   "cell_type": "code",
   "execution_count": null,
   "metadata": {},
   "outputs": [],
   "source": []
  }
 ],
 "metadata": {
  "kernelspec": {
   "display_name": "Python 3",
   "language": "python",
   "name": "python3"
  },
  "language_info": {
   "codemirror_mode": {
    "name": "ipython",
    "version": 3
   },
   "file_extension": ".py",
   "mimetype": "text/x-python",
   "name": "python",
   "nbconvert_exporter": "python",
   "pygments_lexer": "ipython3",
   "version": "3.8.5"
  }
 },
 "nbformat": 4,
 "nbformat_minor": 4
}
