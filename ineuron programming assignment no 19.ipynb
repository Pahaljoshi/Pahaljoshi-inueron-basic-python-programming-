{
 "cells": [
  {
   "cell_type": "markdown",
   "metadata": {},
   "source": [
    "# Assignment no 19"
   ]
  },
  {
   "cell_type": "code",
   "execution_count": 6,
   "metadata": {},
   "outputs": [
    {
     "data": {
      "text/plain": [
       "'HHeelllloo  WWoorrlldd!!'"
      ]
     },
     "execution_count": 6,
     "metadata": {},
     "output_type": "execute_result"
    }
   ],
   "source": [
    "# Question1\n",
    "# Create a function that takes a string and returns a string in which each character is repeated once.\n",
    "# Examples\n",
    "# double_char(\"String\") ➞ \"SSttrriinngg\"\n",
    "\n",
    "# double_char(\"Hello World!\") ➞ \"HHeellllooWWoorrlldd!!\"\n",
    "\n",
    "# double_char(\"1234!_ \") ➞ \"11223344!!__  \"\n",
    "def double_char(str):\n",
    "    outstr = ''\n",
    "    for character in str:\n",
    "        outstr = outstr + character + character\n",
    "    return outstr\n",
    "double_char(\"1234!_ \")\n",
    "double_char(\"String\")\n",
    "double_char(\"Hello World!\")"
   ]
  },
  {
   "cell_type": "code",
   "execution_count": 2,
   "metadata": {},
   "outputs": [
    {
     "data": {
      "text/plain": [
       "False"
      ]
     },
     "execution_count": 2,
     "metadata": {},
     "output_type": "execute_result"
    }
   ],
   "source": [
    "\n",
    "# Question2\n",
    "# Create a function that reverses a boolean value and returns the string \"boolean expected\" if another variable type is given.\n",
    "# Examples\n",
    "# reverse(True) ➞ False\n",
    "\n",
    "# reverse(False) ➞ True\n",
    "\n",
    "# reverse(0) ➞ \"boolean expected\"\n",
    "\n",
    "# reverse(None) ➞ \"boolean expected\"\n",
    "\n",
    "\n",
    "def reverse(arg):\n",
    "    if isinstance(arg, bool):\n",
    "        return not arg\n",
    "    else:\n",
    "        return('boolean expected')\n",
    "\n",
    "def reverse(arg=None):\n",
    "    return not arg if type(arg) == bool else \"boolean expected\"\n",
    "reverse(True)"
   ]
  },
  {
   "cell_type": "code",
   "execution_count": 3,
   "metadata": {},
   "outputs": [
    {
     "name": "stdout",
     "output_type": "stream",
     "text": [
      "1048.576 m\n",
      "Paper folded once is  21 (equal to 1048.576 m)\n"
     ]
    }
   ],
   "source": [
    "# Question3\n",
    "# Create a function that returns the thickness (in meters) of a piece of paper after folding it n number of times. The paper starts off with a thickness of 0.5mm.\n",
    "# Examples\n",
    "# num_layers(1) ➞ \"0.001m\"\n",
    "# # Paper folded once is 1mm (equal to 0.001m)\n",
    "\n",
    "# num_layers(4) ➞ \"0.008m\"\n",
    "# # Paper folded 4 times is 8mm (equal to 0.008m)\n",
    "\n",
    "# num_layers(21) ➞ \"1048.576m\"\n",
    "# # Paper folded 21 times is 1048576mm (equal to 1048.576m)\n",
    "\n",
    "\n",
    "def num_layers(a):\n",
    "    res = 0.5\n",
    "    for _ in range(a):\n",
    "        res *= 2\n",
    "        b = res / 1000\n",
    "    print( b,\"m\")\n",
    "    print(\"Paper folded once is \",a,\"(equal to\", b,'m)')\n",
    "num_layers(21)"
   ]
  },
  {
   "cell_type": "code",
   "execution_count": 4,
   "metadata": {},
   "outputs": [
    {
     "name": "stdout",
     "output_type": "stream",
     "text": [
      "The original string is : eDaBiT\n",
      "Uppercase elements indices : [1, 3, 5]\n",
      "The original string is : eQuINoX\n",
      "Uppercase elements indices : [1, 3, 4, 6]\n",
      "The original string is : determine\n",
      "Uppercase elements indices : []\n",
      "The original string is : STRIKE\n",
      "Uppercase elements indices : [0, 1, 2, 3, 4, 5]\n",
      "The original string is : sUn\n",
      "Uppercase elements indices : [1]\n"
     ]
    }
   ],
   "source": [
    "# Question4\n",
    "# Create a function that takes a single string as argument and returns an ordered list containing the indices of all capital letters in the string.\n",
    "# Examples\n",
    "# index_of_caps(\"eDaBiT\") ➞ [1, 3, 5]\n",
    "\n",
    "# index_of_caps(\"eQuINoX\") ➞ [1, 3, 4, 6]\n",
    "\n",
    "# index_of_caps(\"determine\") ➞ []\n",
    "\n",
    "# index_of_caps(\"STRIKE\") ➞ [0, 1, 2, 3, 4, 5]\n",
    "\n",
    "# index_of_caps(\"sUn\") ➞ [1]\n",
    "\n",
    "def index_of_caps(a):\n",
    "    print(\"The original string is : \" + str(a))\n",
    "    res = [idx for idx in range(len(a)) if a[idx].isupper()]\n",
    "    print(\"Uppercase elements indices : \" + str(res))\n",
    "index_of_caps(\"eDaBiT\") \n",
    "\n",
    "index_of_caps(\"eQuINoX\")\n",
    "\n",
    "index_of_caps(\"determine\")\n",
    "\n",
    "index_of_caps(\"STRIKE\") \n",
    "\n",
    "index_of_caps(\"sUn\") \n"
   ]
  },
  {
   "cell_type": "code",
   "execution_count": 5,
   "metadata": {},
   "outputs": [
    {
     "name": "stdout",
     "output_type": "stream",
     "text": [
      "Even numbers in the list:  [2, 4, 6, 8]\n",
      "Even numbers in the list:  [2, 4]\n",
      "Even numbers in the list:  [2]\n"
     ]
    }
   ],
   "source": [
    "# Question5\n",
    "# Using list comprehensions, create a function that finds all even numbers from 1 to the given number.\n",
    "# Examples\n",
    "# find_even_nums(8) ➞ [2, 4, 6, 8]\n",
    "\n",
    "# find_even_nums(4) ➞ [2, 4]\n",
    "\n",
    "# find_even_nums(2) ➞ [2]\n",
    "\n",
    "\n",
    "def find_even_nums(a):\n",
    "    even_nos = [num for num in range(2,a+2) if num % 2 == 0]  \n",
    "    print(\"Even numbers in the list: \", even_nos)\n",
    "find_even_nums(8)\n",
    "find_even_nums(4)\n",
    "find_even_nums(2) "
   ]
  }
 ],
 "metadata": {
  "kernelspec": {
   "display_name": "Python 3",
   "language": "python",
   "name": "python3"
  },
  "language_info": {
   "codemirror_mode": {
    "name": "ipython",
    "version": 3
   },
   "file_extension": ".py",
   "mimetype": "text/x-python",
   "name": "python",
   "nbconvert_exporter": "python",
   "pygments_lexer": "ipython3",
   "version": "3.8.5"
  }
 },
 "nbformat": 4,
 "nbformat_minor": 4
}
